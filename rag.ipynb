{
 "cells": [
  {
   "cell_type": "markdown",
   "id": "29ea3cbc",
   "metadata": {},
   "source": [
    "# Setting environment variables to log traces with Langsmith."
   ]
  },
  {
   "cell_type": "code",
   "execution_count": 7,
   "id": "40728a73",
   "metadata": {},
   "outputs": [
    {
     "name": "stdout",
     "output_type": "stream",
     "text": [
      "404\n",
      "{'detail': 'Not Found'}\n"
     ]
    }
   ],
   "source": [
    "import os          # Imports Python's built-in \"os module\" for interacting with the operating system. (e.g environment variables)\n",
    "from dotenv import load_dotenv          # Imports the \"load_dotenv function\" from the \"dotenv module\" to load environment variables from the .env file. \n",
    "import requests          # Imports the \"requests library\" to make HTTP requests (used to verify the Langsmith API connection)\n",
    "\n",
    "\n",
    "load_dotenv(          # Loads environment variables from the .env file.\n",
    "    dotenv_path = \".env\",           #Specifies the path to the .env file, which contains environment variables. The default is .env in the current directory.\n",
    "    override = True           # Allows the loaded environment variables in the .env file to override any existing environment variables. \n",
    ")\n",
    "\n",
    "os.environ[\"LANGSMITH_TRACING\"] = os.getenv(\"LANGSMITH_TRACING\")          # Retrieves the value of the loaded \"LANGSMITH_TRACING\" variable from the .env file and sets it in Python's runtime environment. This ensures Langsmith can access the value.\n",
    "os.environ[\"LANGSMITH_ENDPOINT\"] = os.getenv(\"LANGSMITH_ENDPOINT\")          # Retrieves the value of the loaded \"LANGSMITH_ENDPOINT\" variable from the .env file and sets it in Python's runtime environment. This ensures Langsmith can access the value.\n",
    "os.environ[\"LANGSMITH_API_KEY\"] = os.getenv(\"LANGSMITH_API_KEY\")          # Retrieves the value of the loaded \"LANGSMITH_API_KEY\" variable from the .env file and sets it in Python's runtime environment. This ensures Langsmith can access the value.\n",
    "os.environ[\"LANGSMITH_PROJECT\"] = os.getenv(\"LANGSMITH_PROJECT\")          # Retrieves the value of the loaded \"LANGSMITH_PROJECT\" variable from the .env file and sets it in Python's runtime environment. This ensures Langsmith can access the value.\n",
    "\n",
    "headers = {          # Creates a dictionary to store HTTP headers for the request. This particular dictionary is for the \"Authorization header\" which is required to aunthenticate the request to the Langsmith API.\n",
    "    \"Authorization\": f\"Bearer {os.getenv(\"LANGSMITH_API_KEY\")}\"          # Sets the \"Authorization header\" with the value of the \"LANGSMITH_API_KEY\" environment variable. This is used to authenticate the request to the Langsmith API.\n",
    "}\n",
    "response = requests.get(          # Makes a GET request to Langsmith's API endpoint to verify the connection.\n",
    "    \"https://api.smith.langchain.com\",          # The URL of Langsmith's API endpoint.\n",
    "    headers=headers          # Passes the dictionary containing the \"Authorization header\" to authenticate the request.\n",
    ")\n",
    "\n",
    "print(response.status_code)          # Prints the HTTP status code of the response. A status code of 200 indicates a successful connection to the Langsmith API.\n",
    "print(response.json())          # Prints the JSON response from the Langsmith API, which typically contains information about the API connection or any relevant data returned by the request."
   ]
  }
 ],
 "metadata": {
  "kernelspec": {
   "display_name": "Python 3",
   "language": "python",
   "name": "python3"
  },
  "language_info": {
   "codemirror_mode": {
    "name": "ipython",
    "version": 3
   },
   "file_extension": ".py",
   "mimetype": "text/x-python",
   "name": "python",
   "nbconvert_exporter": "python",
   "pygments_lexer": "ipython3",
   "version": "3.13.2"
  }
 },
 "nbformat": 4,
 "nbformat_minor": 5
}
